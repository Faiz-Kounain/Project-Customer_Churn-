{
 "cells": [
  {
   "cell_type": "code",
   "execution_count": 1,
   "id": "62033260",
   "metadata": {},
   "outputs": [],
   "source": [
    "import pandas as pd\n",
    "import numpy as np\n",
    "import matplotlib.pyplot as plt\n",
    "import seaborn as sns"
   ]
  },
  {
   "cell_type": "code",
   "execution_count": 2,
   "id": "f5d24fa7",
   "metadata": {},
   "outputs": [],
   "source": [
    "df = pd.read_csv(\"final_data.csv\")"
   ]
  },
  {
   "cell_type": "code",
   "execution_count": 3,
   "id": "ff886347",
   "metadata": {},
   "outputs": [
    {
     "data": {
      "text/html": [
       "<div>\n",
       "<style scoped>\n",
       "    .dataframe tbody tr th:only-of-type {\n",
       "        vertical-align: middle;\n",
       "    }\n",
       "\n",
       "    .dataframe tbody tr th {\n",
       "        vertical-align: top;\n",
       "    }\n",
       "\n",
       "    .dataframe thead th {\n",
       "        text-align: right;\n",
       "    }\n",
       "</style>\n",
       "<table border=\"1\" class=\"dataframe\">\n",
       "  <thead>\n",
       "    <tr style=\"text-align: right;\">\n",
       "      <th></th>\n",
       "      <th>Unnamed: 0</th>\n",
       "      <th>gender</th>\n",
       "      <th>SeniorCitizen</th>\n",
       "      <th>Dependents</th>\n",
       "      <th>tenure</th>\n",
       "      <th>InternetService</th>\n",
       "      <th>OnlineSecurity</th>\n",
       "      <th>OnlineBackup</th>\n",
       "      <th>DeviceProtection</th>\n",
       "      <th>TechSupport</th>\n",
       "      <th>Contract</th>\n",
       "      <th>PaperlessBilling</th>\n",
       "      <th>PaymentMethod</th>\n",
       "      <th>MonthlyCharges</th>\n",
       "      <th>TotalCharges</th>\n",
       "      <th>Churn</th>\n",
       "    </tr>\n",
       "  </thead>\n",
       "  <tbody>\n",
       "    <tr>\n",
       "      <th>0</th>\n",
       "      <td>0</td>\n",
       "      <td>Female</td>\n",
       "      <td>0</td>\n",
       "      <td>No</td>\n",
       "      <td>1</td>\n",
       "      <td>DSL</td>\n",
       "      <td>No</td>\n",
       "      <td>Yes</td>\n",
       "      <td>No</td>\n",
       "      <td>No</td>\n",
       "      <td>Month-to-month</td>\n",
       "      <td>Yes</td>\n",
       "      <td>Electronic check</td>\n",
       "      <td>29.85</td>\n",
       "      <td>29.85</td>\n",
       "      <td>No</td>\n",
       "    </tr>\n",
       "    <tr>\n",
       "      <th>1</th>\n",
       "      <td>1</td>\n",
       "      <td>Male</td>\n",
       "      <td>0</td>\n",
       "      <td>No</td>\n",
       "      <td>34</td>\n",
       "      <td>DSL</td>\n",
       "      <td>Yes</td>\n",
       "      <td>No</td>\n",
       "      <td>Yes</td>\n",
       "      <td>No</td>\n",
       "      <td>One year</td>\n",
       "      <td>No</td>\n",
       "      <td>Mailed check</td>\n",
       "      <td>56.95</td>\n",
       "      <td>1889.50</td>\n",
       "      <td>No</td>\n",
       "    </tr>\n",
       "    <tr>\n",
       "      <th>2</th>\n",
       "      <td>2</td>\n",
       "      <td>Male</td>\n",
       "      <td>0</td>\n",
       "      <td>No</td>\n",
       "      <td>2</td>\n",
       "      <td>DSL</td>\n",
       "      <td>Yes</td>\n",
       "      <td>Yes</td>\n",
       "      <td>No</td>\n",
       "      <td>No</td>\n",
       "      <td>Month-to-month</td>\n",
       "      <td>Yes</td>\n",
       "      <td>Mailed check</td>\n",
       "      <td>53.85</td>\n",
       "      <td>108.15</td>\n",
       "      <td>Yes</td>\n",
       "    </tr>\n",
       "    <tr>\n",
       "      <th>3</th>\n",
       "      <td>3</td>\n",
       "      <td>Male</td>\n",
       "      <td>0</td>\n",
       "      <td>No</td>\n",
       "      <td>45</td>\n",
       "      <td>DSL</td>\n",
       "      <td>Yes</td>\n",
       "      <td>No</td>\n",
       "      <td>Yes</td>\n",
       "      <td>Yes</td>\n",
       "      <td>One year</td>\n",
       "      <td>No</td>\n",
       "      <td>Bank transfer (automatic)</td>\n",
       "      <td>42.30</td>\n",
       "      <td>1840.75</td>\n",
       "      <td>No</td>\n",
       "    </tr>\n",
       "    <tr>\n",
       "      <th>4</th>\n",
       "      <td>4</td>\n",
       "      <td>Female</td>\n",
       "      <td>0</td>\n",
       "      <td>No</td>\n",
       "      <td>2</td>\n",
       "      <td>Fiber optic</td>\n",
       "      <td>No</td>\n",
       "      <td>No</td>\n",
       "      <td>No</td>\n",
       "      <td>No</td>\n",
       "      <td>Month-to-month</td>\n",
       "      <td>Yes</td>\n",
       "      <td>Electronic check</td>\n",
       "      <td>70.70</td>\n",
       "      <td>151.65</td>\n",
       "      <td>Yes</td>\n",
       "    </tr>\n",
       "    <tr>\n",
       "      <th>...</th>\n",
       "      <td>...</td>\n",
       "      <td>...</td>\n",
       "      <td>...</td>\n",
       "      <td>...</td>\n",
       "      <td>...</td>\n",
       "      <td>...</td>\n",
       "      <td>...</td>\n",
       "      <td>...</td>\n",
       "      <td>...</td>\n",
       "      <td>...</td>\n",
       "      <td>...</td>\n",
       "      <td>...</td>\n",
       "      <td>...</td>\n",
       "      <td>...</td>\n",
       "      <td>...</td>\n",
       "      <td>...</td>\n",
       "    </tr>\n",
       "    <tr>\n",
       "      <th>10301</th>\n",
       "      <td>10301</td>\n",
       "      <td>Male</td>\n",
       "      <td>0</td>\n",
       "      <td>Yes</td>\n",
       "      <td>23</td>\n",
       "      <td>DSL</td>\n",
       "      <td>No</td>\n",
       "      <td>No</td>\n",
       "      <td>No</td>\n",
       "      <td>No</td>\n",
       "      <td>One year</td>\n",
       "      <td>Yes</td>\n",
       "      <td>Credit card (automatic)</td>\n",
       "      <td>48.35</td>\n",
       "      <td>1067.15</td>\n",
       "      <td>Yes</td>\n",
       "    </tr>\n",
       "    <tr>\n",
       "      <th>10302</th>\n",
       "      <td>10302</td>\n",
       "      <td>Male</td>\n",
       "      <td>0</td>\n",
       "      <td>No</td>\n",
       "      <td>1</td>\n",
       "      <td>DSL</td>\n",
       "      <td>No</td>\n",
       "      <td>No</td>\n",
       "      <td>Yes</td>\n",
       "      <td>No</td>\n",
       "      <td>Month-to-month</td>\n",
       "      <td>No</td>\n",
       "      <td>Electronic check</td>\n",
       "      <td>54.35</td>\n",
       "      <td>54.35</td>\n",
       "      <td>Yes</td>\n",
       "    </tr>\n",
       "    <tr>\n",
       "      <th>10303</th>\n",
       "      <td>10303</td>\n",
       "      <td>Male</td>\n",
       "      <td>1</td>\n",
       "      <td>No</td>\n",
       "      <td>45</td>\n",
       "      <td>DSL</td>\n",
       "      <td>Yes</td>\n",
       "      <td>No</td>\n",
       "      <td>Yes</td>\n",
       "      <td>No</td>\n",
       "      <td>One year</td>\n",
       "      <td>No</td>\n",
       "      <td>Credit card (automatic)</td>\n",
       "      <td>62.70</td>\n",
       "      <td>2791.50</td>\n",
       "      <td>Yes</td>\n",
       "    </tr>\n",
       "    <tr>\n",
       "      <th>10304</th>\n",
       "      <td>10304</td>\n",
       "      <td>Male</td>\n",
       "      <td>0</td>\n",
       "      <td>No</td>\n",
       "      <td>4</td>\n",
       "      <td>Fiber optic</td>\n",
       "      <td>No</td>\n",
       "      <td>No</td>\n",
       "      <td>No</td>\n",
       "      <td>No</td>\n",
       "      <td>Month-to-month</td>\n",
       "      <td>Yes</td>\n",
       "      <td>Electronic check</td>\n",
       "      <td>85.65</td>\n",
       "      <td>338.90</td>\n",
       "      <td>Yes</td>\n",
       "    </tr>\n",
       "    <tr>\n",
       "      <th>10305</th>\n",
       "      <td>10305</td>\n",
       "      <td>Male</td>\n",
       "      <td>0</td>\n",
       "      <td>No</td>\n",
       "      <td>19</td>\n",
       "      <td>Fiber optic</td>\n",
       "      <td>No</td>\n",
       "      <td>No</td>\n",
       "      <td>No</td>\n",
       "      <td>No</td>\n",
       "      <td>Month-to-month</td>\n",
       "      <td>Yes</td>\n",
       "      <td>Bank transfer (automatic)</td>\n",
       "      <td>86.00</td>\n",
       "      <td>1532.45</td>\n",
       "      <td>Yes</td>\n",
       "    </tr>\n",
       "  </tbody>\n",
       "</table>\n",
       "<p>10306 rows × 16 columns</p>\n",
       "</div>"
      ],
      "text/plain": [
       "       Unnamed: 0  gender  SeniorCitizen Dependents  tenure InternetService  \\\n",
       "0               0  Female              0         No       1             DSL   \n",
       "1               1    Male              0         No      34             DSL   \n",
       "2               2    Male              0         No       2             DSL   \n",
       "3               3    Male              0         No      45             DSL   \n",
       "4               4  Female              0         No       2     Fiber optic   \n",
       "...           ...     ...            ...        ...     ...             ...   \n",
       "10301       10301    Male              0        Yes      23             DSL   \n",
       "10302       10302    Male              0         No       1             DSL   \n",
       "10303       10303    Male              1         No      45             DSL   \n",
       "10304       10304    Male              0         No       4     Fiber optic   \n",
       "10305       10305    Male              0         No      19     Fiber optic   \n",
       "\n",
       "      OnlineSecurity OnlineBackup DeviceProtection TechSupport  \\\n",
       "0                 No          Yes               No          No   \n",
       "1                Yes           No              Yes          No   \n",
       "2                Yes          Yes               No          No   \n",
       "3                Yes           No              Yes         Yes   \n",
       "4                 No           No               No          No   \n",
       "...              ...          ...              ...         ...   \n",
       "10301             No           No               No          No   \n",
       "10302             No           No              Yes          No   \n",
       "10303            Yes           No              Yes          No   \n",
       "10304             No           No               No          No   \n",
       "10305             No           No               No          No   \n",
       "\n",
       "             Contract PaperlessBilling              PaymentMethod  \\\n",
       "0      Month-to-month              Yes           Electronic check   \n",
       "1            One year               No               Mailed check   \n",
       "2      Month-to-month              Yes               Mailed check   \n",
       "3            One year               No  Bank transfer (automatic)   \n",
       "4      Month-to-month              Yes           Electronic check   \n",
       "...               ...              ...                        ...   \n",
       "10301        One year              Yes    Credit card (automatic)   \n",
       "10302  Month-to-month               No           Electronic check   \n",
       "10303        One year               No    Credit card (automatic)   \n",
       "10304  Month-to-month              Yes           Electronic check   \n",
       "10305  Month-to-month              Yes  Bank transfer (automatic)   \n",
       "\n",
       "       MonthlyCharges  TotalCharges Churn  \n",
       "0               29.85         29.85    No  \n",
       "1               56.95       1889.50    No  \n",
       "2               53.85        108.15   Yes  \n",
       "3               42.30       1840.75    No  \n",
       "4               70.70        151.65   Yes  \n",
       "...               ...           ...   ...  \n",
       "10301           48.35       1067.15   Yes  \n",
       "10302           54.35         54.35   Yes  \n",
       "10303           62.70       2791.50   Yes  \n",
       "10304           85.65        338.90   Yes  \n",
       "10305           86.00       1532.45   Yes  \n",
       "\n",
       "[10306 rows x 16 columns]"
      ]
     },
     "execution_count": 3,
     "metadata": {},
     "output_type": "execute_result"
    }
   ],
   "source": [
    "df"
   ]
  },
  {
   "cell_type": "code",
   "execution_count": 4,
   "id": "862593da",
   "metadata": {},
   "outputs": [],
   "source": [
    "X = df.drop([\"Churn\",\"Unnamed: 0\"],axis=1)\n",
    "y = df[\"Churn\"]"
   ]
  },
  {
   "cell_type": "code",
   "execution_count": 5,
   "id": "7b776680",
   "metadata": {},
   "outputs": [
    {
     "name": "stdout",
     "output_type": "stream",
     "text": [
      "<class 'pandas.core.frame.DataFrame'>\n",
      "RangeIndex: 10306 entries, 0 to 10305\n",
      "Data columns (total 14 columns):\n",
      " #   Column            Non-Null Count  Dtype  \n",
      "---  ------            --------------  -----  \n",
      " 0   gender            10306 non-null  object \n",
      " 1   SeniorCitizen     10306 non-null  int64  \n",
      " 2   Dependents        10306 non-null  object \n",
      " 3   tenure            10306 non-null  int64  \n",
      " 4   InternetService   10306 non-null  object \n",
      " 5   OnlineSecurity    10306 non-null  object \n",
      " 6   OnlineBackup      10306 non-null  object \n",
      " 7   DeviceProtection  10306 non-null  object \n",
      " 8   TechSupport       10306 non-null  object \n",
      " 9   Contract          10306 non-null  object \n",
      " 10  PaperlessBilling  10306 non-null  object \n",
      " 11  PaymentMethod     10306 non-null  object \n",
      " 12  MonthlyCharges    10306 non-null  float64\n",
      " 13  TotalCharges      10306 non-null  float64\n",
      "dtypes: float64(2), int64(2), object(10)\n",
      "memory usage: 1.1+ MB\n"
     ]
    }
   ],
   "source": [
    "X.info()"
   ]
  },
  {
   "cell_type": "code",
   "execution_count": null,
   "id": "549e63ac",
   "metadata": {},
   "outputs": [],
   "source": []
  },
  {
   "cell_type": "code",
   "execution_count": null,
   "id": "0a9e3871",
   "metadata": {},
   "outputs": [],
   "source": [
    "#!pip install sklearn_pandas"
   ]
  },
  {
   "cell_type": "code",
   "execution_count": 6,
   "id": "ff315e87",
   "metadata": {},
   "outputs": [],
   "source": []
  },
  {
   "cell_type": "code",
   "execution_count": 7,
   "id": "70b9d4be",
   "metadata": {},
   "outputs": [],
   "source": [
    "from sklearn.preprocessing import LabelEncoder,StandardScaler\n",
    "from sklearn.ensemble import RandomForestClassifier"
   ]
  },
  {
   "cell_type": "code",
   "execution_count": null,
   "id": "c3154b80",
   "metadata": {},
   "outputs": [],
   "source": []
  },
  {
   "cell_type": "code",
   "execution_count": 8,
   "id": "b7c9b497",
   "metadata": {},
   "outputs": [
    {
     "data": {
      "text/plain": [
       "Index(['gender', 'Dependents', 'InternetService', 'OnlineSecurity',\n",
       "       'OnlineBackup', 'DeviceProtection', 'TechSupport', 'Contract',\n",
       "       'PaperlessBilling', 'PaymentMethod'],\n",
       "      dtype='object')"
      ]
     },
     "execution_count": 8,
     "metadata": {},
     "output_type": "execute_result"
    }
   ],
   "source": [
    "obj_col = X.loc[:, X.dtypes == object].columns\n",
    "obj_col"
   ]
  },
  {
   "cell_type": "code",
   "execution_count": null,
   "id": "4ee0a416",
   "metadata": {},
   "outputs": [],
   "source": []
  },
  {
   "cell_type": "code",
   "execution_count": 9,
   "id": "73b88454",
   "metadata": {},
   "outputs": [],
   "source": [
    "m = DataFrameMapper([([\"gender\",LabelEncoder()]),([\"Dependents\",LabelEncoder()]),\n",
    "                     ([\"InternetService\",LabelEncoder()]),([\"OnlineSecurity\",LabelEncoder()]),\n",
    "                     ([\"OnlineBackup\",LabelEncoder()]),\n",
    "                     ([\"DeviceProtection\",LabelEncoder()]),([\"TechSupport\",LabelEncoder()]),\n",
    "                     ([\"Contract\",LabelEncoder()]),([\"PaperlessBilling\",LabelEncoder()]),\n",
    "                     ([\"PaymentMethod\",LabelEncoder()])\n",
    "                ])"
   ]
  },
  {
   "cell_type": "code",
   "execution_count": 10,
   "id": "99046aed",
   "metadata": {},
   "outputs": [],
   "source": [
    "classifier = []\n",
    "classifier.append((\"mapper\",m))\n",
    "classifier.append(('standardize', StandardScaler()))\n",
    "classifier.append((\"model\",RandomForestClassifier(criterion= 'gini', n_estimators= 50)))"
   ]
  },
  {
   "cell_type": "code",
   "execution_count": 11,
   "id": "da0ae834",
   "metadata": {},
   "outputs": [
    {
     "data": {
      "text/plain": [
       "[('mapper',\n",
       "  DataFrameMapper(drop_cols=[],\n",
       "                  features=[['gender', LabelEncoder()],\n",
       "                            ['Dependents', LabelEncoder()],\n",
       "                            ['InternetService', LabelEncoder()],\n",
       "                            ['OnlineSecurity', LabelEncoder()],\n",
       "                            ['OnlineBackup', LabelEncoder()],\n",
       "                            ['DeviceProtection', LabelEncoder()],\n",
       "                            ['TechSupport', LabelEncoder()],\n",
       "                            ['Contract', LabelEncoder()],\n",
       "                            ['PaperlessBilling', LabelEncoder()],\n",
       "                            ['PaymentMethod', LabelEncoder()]])),\n",
       " ('standardize', StandardScaler()),\n",
       " ('model', RandomForestClassifier(n_estimators=50))]"
      ]
     },
     "execution_count": 11,
     "metadata": {},
     "output_type": "execute_result"
    }
   ],
   "source": [
    "classifier"
   ]
  },
  {
   "cell_type": "code",
   "execution_count": 13,
   "id": "f8efbcc3",
   "metadata": {},
   "outputs": [],
   "source": [
    "model = Pipeline(classifier)"
   ]
  },
  {
   "cell_type": "code",
   "execution_count": 14,
   "id": "48cb24f3",
   "metadata": {},
   "outputs": [
    {
     "data": {
      "text/html": [
       "<style>#sk-container-id-1 {color: black;background-color: white;}#sk-container-id-1 pre{padding: 0;}#sk-container-id-1 div.sk-toggleable {background-color: white;}#sk-container-id-1 label.sk-toggleable__label {cursor: pointer;display: block;width: 100%;margin-bottom: 0;padding: 0.3em;box-sizing: border-box;text-align: center;}#sk-container-id-1 label.sk-toggleable__label-arrow:before {content: \"▸\";float: left;margin-right: 0.25em;color: #696969;}#sk-container-id-1 label.sk-toggleable__label-arrow:hover:before {color: black;}#sk-container-id-1 div.sk-estimator:hover label.sk-toggleable__label-arrow:before {color: black;}#sk-container-id-1 div.sk-toggleable__content {max-height: 0;max-width: 0;overflow: hidden;text-align: left;background-color: #f0f8ff;}#sk-container-id-1 div.sk-toggleable__content pre {margin: 0.2em;color: black;border-radius: 0.25em;background-color: #f0f8ff;}#sk-container-id-1 input.sk-toggleable__control:checked~div.sk-toggleable__content {max-height: 200px;max-width: 100%;overflow: auto;}#sk-container-id-1 input.sk-toggleable__control:checked~label.sk-toggleable__label-arrow:before {content: \"▾\";}#sk-container-id-1 div.sk-estimator input.sk-toggleable__control:checked~label.sk-toggleable__label {background-color: #d4ebff;}#sk-container-id-1 div.sk-label input.sk-toggleable__control:checked~label.sk-toggleable__label {background-color: #d4ebff;}#sk-container-id-1 input.sk-hidden--visually {border: 0;clip: rect(1px 1px 1px 1px);clip: rect(1px, 1px, 1px, 1px);height: 1px;margin: -1px;overflow: hidden;padding: 0;position: absolute;width: 1px;}#sk-container-id-1 div.sk-estimator {font-family: monospace;background-color: #f0f8ff;border: 1px dotted black;border-radius: 0.25em;box-sizing: border-box;margin-bottom: 0.5em;}#sk-container-id-1 div.sk-estimator:hover {background-color: #d4ebff;}#sk-container-id-1 div.sk-parallel-item::after {content: \"\";width: 100%;border-bottom: 1px solid gray;flex-grow: 1;}#sk-container-id-1 div.sk-label:hover label.sk-toggleable__label {background-color: #d4ebff;}#sk-container-id-1 div.sk-serial::before {content: \"\";position: absolute;border-left: 1px solid gray;box-sizing: border-box;top: 0;bottom: 0;left: 50%;z-index: 0;}#sk-container-id-1 div.sk-serial {display: flex;flex-direction: column;align-items: center;background-color: white;padding-right: 0.2em;padding-left: 0.2em;position: relative;}#sk-container-id-1 div.sk-item {position: relative;z-index: 1;}#sk-container-id-1 div.sk-parallel {display: flex;align-items: stretch;justify-content: center;background-color: white;position: relative;}#sk-container-id-1 div.sk-item::before, #sk-container-id-1 div.sk-parallel-item::before {content: \"\";position: absolute;border-left: 1px solid gray;box-sizing: border-box;top: 0;bottom: 0;left: 50%;z-index: -1;}#sk-container-id-1 div.sk-parallel-item {display: flex;flex-direction: column;z-index: 1;position: relative;background-color: white;}#sk-container-id-1 div.sk-parallel-item:first-child::after {align-self: flex-end;width: 50%;}#sk-container-id-1 div.sk-parallel-item:last-child::after {align-self: flex-start;width: 50%;}#sk-container-id-1 div.sk-parallel-item:only-child::after {width: 0;}#sk-container-id-1 div.sk-dashed-wrapped {border: 1px dashed gray;margin: 0 0.4em 0.5em 0.4em;box-sizing: border-box;padding-bottom: 0.4em;background-color: white;}#sk-container-id-1 div.sk-label label {font-family: monospace;font-weight: bold;display: inline-block;line-height: 1.2em;}#sk-container-id-1 div.sk-label-container {text-align: center;}#sk-container-id-1 div.sk-container {/* jupyter's `normalize.less` sets `[hidden] { display: none; }` but bootstrap.min.css set `[hidden] { display: none !important; }` so we also need the `!important` here to be able to override the default hidden behavior on the sphinx rendered scikit-learn.org. See: https://github.com/scikit-learn/scikit-learn/issues/21755 */display: inline-block !important;position: relative;}#sk-container-id-1 div.sk-text-repr-fallback {display: none;}</style><div id=\"sk-container-id-1\" class=\"sk-top-container\"><div class=\"sk-text-repr-fallback\"><pre>Pipeline(steps=[(&#x27;mapper&#x27;,\n",
       "                 DataFrameMapper(drop_cols=[],\n",
       "                                 features=[[&#x27;gender&#x27;, LabelEncoder()],\n",
       "                                           [&#x27;Dependents&#x27;, LabelEncoder()],\n",
       "                                           [&#x27;InternetService&#x27;, LabelEncoder()],\n",
       "                                           [&#x27;OnlineSecurity&#x27;, LabelEncoder()],\n",
       "                                           [&#x27;OnlineBackup&#x27;, LabelEncoder()],\n",
       "                                           [&#x27;DeviceProtection&#x27;, LabelEncoder()],\n",
       "                                           [&#x27;TechSupport&#x27;, LabelEncoder()],\n",
       "                                           [&#x27;Contract&#x27;, LabelEncoder()],\n",
       "                                           [&#x27;PaperlessBilling&#x27;, LabelEncoder()],\n",
       "                                           [&#x27;PaymentMethod&#x27;, LabelEncoder()]])),\n",
       "                (&#x27;standardize&#x27;, StandardScaler()),\n",
       "                (&#x27;model&#x27;, RandomForestClassifier(n_estimators=50))])</pre><b>In a Jupyter environment, please rerun this cell to show the HTML representation or trust the notebook. <br />On GitHub, the HTML representation is unable to render, please try loading this page with nbviewer.org.</b></div><div class=\"sk-container\" hidden><div class=\"sk-item sk-dashed-wrapped\"><div class=\"sk-label-container\"><div class=\"sk-label sk-toggleable\"><input class=\"sk-toggleable__control sk-hidden--visually\" id=\"sk-estimator-id-1\" type=\"checkbox\" ><label for=\"sk-estimator-id-1\" class=\"sk-toggleable__label sk-toggleable__label-arrow\">Pipeline</label><div class=\"sk-toggleable__content\"><pre>Pipeline(steps=[(&#x27;mapper&#x27;,\n",
       "                 DataFrameMapper(drop_cols=[],\n",
       "                                 features=[[&#x27;gender&#x27;, LabelEncoder()],\n",
       "                                           [&#x27;Dependents&#x27;, LabelEncoder()],\n",
       "                                           [&#x27;InternetService&#x27;, LabelEncoder()],\n",
       "                                           [&#x27;OnlineSecurity&#x27;, LabelEncoder()],\n",
       "                                           [&#x27;OnlineBackup&#x27;, LabelEncoder()],\n",
       "                                           [&#x27;DeviceProtection&#x27;, LabelEncoder()],\n",
       "                                           [&#x27;TechSupport&#x27;, LabelEncoder()],\n",
       "                                           [&#x27;Contract&#x27;, LabelEncoder()],\n",
       "                                           [&#x27;PaperlessBilling&#x27;, LabelEncoder()],\n",
       "                                           [&#x27;PaymentMethod&#x27;, LabelEncoder()]])),\n",
       "                (&#x27;standardize&#x27;, StandardScaler()),\n",
       "                (&#x27;model&#x27;, RandomForestClassifier(n_estimators=50))])</pre></div></div></div><div class=\"sk-serial\"><div class=\"sk-item\"><div class=\"sk-estimator sk-toggleable\"><input class=\"sk-toggleable__control sk-hidden--visually\" id=\"sk-estimator-id-2\" type=\"checkbox\" ><label for=\"sk-estimator-id-2\" class=\"sk-toggleable__label sk-toggleable__label-arrow\">DataFrameMapper</label><div class=\"sk-toggleable__content\"><pre>DataFrameMapper(drop_cols=[],\n",
       "                features=[[&#x27;gender&#x27;, LabelEncoder()],\n",
       "                          [&#x27;Dependents&#x27;, LabelEncoder()],\n",
       "                          [&#x27;InternetService&#x27;, LabelEncoder()],\n",
       "                          [&#x27;OnlineSecurity&#x27;, LabelEncoder()],\n",
       "                          [&#x27;OnlineBackup&#x27;, LabelEncoder()],\n",
       "                          [&#x27;DeviceProtection&#x27;, LabelEncoder()],\n",
       "                          [&#x27;TechSupport&#x27;, LabelEncoder()],\n",
       "                          [&#x27;Contract&#x27;, LabelEncoder()],\n",
       "                          [&#x27;PaperlessBilling&#x27;, LabelEncoder()],\n",
       "                          [&#x27;PaymentMethod&#x27;, LabelEncoder()]])</pre></div></div></div><div class=\"sk-item\"><div class=\"sk-estimator sk-toggleable\"><input class=\"sk-toggleable__control sk-hidden--visually\" id=\"sk-estimator-id-3\" type=\"checkbox\" ><label for=\"sk-estimator-id-3\" class=\"sk-toggleable__label sk-toggleable__label-arrow\">StandardScaler</label><div class=\"sk-toggleable__content\"><pre>StandardScaler()</pre></div></div></div><div class=\"sk-item\"><div class=\"sk-estimator sk-toggleable\"><input class=\"sk-toggleable__control sk-hidden--visually\" id=\"sk-estimator-id-4\" type=\"checkbox\" ><label for=\"sk-estimator-id-4\" class=\"sk-toggleable__label sk-toggleable__label-arrow\">RandomForestClassifier</label><div class=\"sk-toggleable__content\"><pre>RandomForestClassifier(n_estimators=50)</pre></div></div></div></div></div></div></div>"
      ],
      "text/plain": [
       "Pipeline(steps=[('mapper',\n",
       "                 DataFrameMapper(drop_cols=[],\n",
       "                                 features=[['gender', LabelEncoder()],\n",
       "                                           ['Dependents', LabelEncoder()],\n",
       "                                           ['InternetService', LabelEncoder()],\n",
       "                                           ['OnlineSecurity', LabelEncoder()],\n",
       "                                           ['OnlineBackup', LabelEncoder()],\n",
       "                                           ['DeviceProtection', LabelEncoder()],\n",
       "                                           ['TechSupport', LabelEncoder()],\n",
       "                                           ['Contract', LabelEncoder()],\n",
       "                                           ['PaperlessBilling', LabelEncoder()],\n",
       "                                           ['PaymentMethod', LabelEncoder()]])),\n",
       "                ('standardize', StandardScaler()),\n",
       "                ('model', RandomForestClassifier(n_estimators=50))])"
      ]
     },
     "execution_count": 14,
     "metadata": {},
     "output_type": "execute_result"
    }
   ],
   "source": [
    "model"
   ]
  },
  {
   "cell_type": "code",
   "execution_count": 15,
   "id": "622d5e1d",
   "metadata": {},
   "outputs": [
    {
     "data": {
      "text/html": [
       "<style>#sk-container-id-2 {color: black;background-color: white;}#sk-container-id-2 pre{padding: 0;}#sk-container-id-2 div.sk-toggleable {background-color: white;}#sk-container-id-2 label.sk-toggleable__label {cursor: pointer;display: block;width: 100%;margin-bottom: 0;padding: 0.3em;box-sizing: border-box;text-align: center;}#sk-container-id-2 label.sk-toggleable__label-arrow:before {content: \"▸\";float: left;margin-right: 0.25em;color: #696969;}#sk-container-id-2 label.sk-toggleable__label-arrow:hover:before {color: black;}#sk-container-id-2 div.sk-estimator:hover label.sk-toggleable__label-arrow:before {color: black;}#sk-container-id-2 div.sk-toggleable__content {max-height: 0;max-width: 0;overflow: hidden;text-align: left;background-color: #f0f8ff;}#sk-container-id-2 div.sk-toggleable__content pre {margin: 0.2em;color: black;border-radius: 0.25em;background-color: #f0f8ff;}#sk-container-id-2 input.sk-toggleable__control:checked~div.sk-toggleable__content {max-height: 200px;max-width: 100%;overflow: auto;}#sk-container-id-2 input.sk-toggleable__control:checked~label.sk-toggleable__label-arrow:before {content: \"▾\";}#sk-container-id-2 div.sk-estimator input.sk-toggleable__control:checked~label.sk-toggleable__label {background-color: #d4ebff;}#sk-container-id-2 div.sk-label input.sk-toggleable__control:checked~label.sk-toggleable__label {background-color: #d4ebff;}#sk-container-id-2 input.sk-hidden--visually {border: 0;clip: rect(1px 1px 1px 1px);clip: rect(1px, 1px, 1px, 1px);height: 1px;margin: -1px;overflow: hidden;padding: 0;position: absolute;width: 1px;}#sk-container-id-2 div.sk-estimator {font-family: monospace;background-color: #f0f8ff;border: 1px dotted black;border-radius: 0.25em;box-sizing: border-box;margin-bottom: 0.5em;}#sk-container-id-2 div.sk-estimator:hover {background-color: #d4ebff;}#sk-container-id-2 div.sk-parallel-item::after {content: \"\";width: 100%;border-bottom: 1px solid gray;flex-grow: 1;}#sk-container-id-2 div.sk-label:hover label.sk-toggleable__label {background-color: #d4ebff;}#sk-container-id-2 div.sk-serial::before {content: \"\";position: absolute;border-left: 1px solid gray;box-sizing: border-box;top: 0;bottom: 0;left: 50%;z-index: 0;}#sk-container-id-2 div.sk-serial {display: flex;flex-direction: column;align-items: center;background-color: white;padding-right: 0.2em;padding-left: 0.2em;position: relative;}#sk-container-id-2 div.sk-item {position: relative;z-index: 1;}#sk-container-id-2 div.sk-parallel {display: flex;align-items: stretch;justify-content: center;background-color: white;position: relative;}#sk-container-id-2 div.sk-item::before, #sk-container-id-2 div.sk-parallel-item::before {content: \"\";position: absolute;border-left: 1px solid gray;box-sizing: border-box;top: 0;bottom: 0;left: 50%;z-index: -1;}#sk-container-id-2 div.sk-parallel-item {display: flex;flex-direction: column;z-index: 1;position: relative;background-color: white;}#sk-container-id-2 div.sk-parallel-item:first-child::after {align-self: flex-end;width: 50%;}#sk-container-id-2 div.sk-parallel-item:last-child::after {align-self: flex-start;width: 50%;}#sk-container-id-2 div.sk-parallel-item:only-child::after {width: 0;}#sk-container-id-2 div.sk-dashed-wrapped {border: 1px dashed gray;margin: 0 0.4em 0.5em 0.4em;box-sizing: border-box;padding-bottom: 0.4em;background-color: white;}#sk-container-id-2 div.sk-label label {font-family: monospace;font-weight: bold;display: inline-block;line-height: 1.2em;}#sk-container-id-2 div.sk-label-container {text-align: center;}#sk-container-id-2 div.sk-container {/* jupyter's `normalize.less` sets `[hidden] { display: none; }` but bootstrap.min.css set `[hidden] { display: none !important; }` so we also need the `!important` here to be able to override the default hidden behavior on the sphinx rendered scikit-learn.org. See: https://github.com/scikit-learn/scikit-learn/issues/21755 */display: inline-block !important;position: relative;}#sk-container-id-2 div.sk-text-repr-fallback {display: none;}</style><div id=\"sk-container-id-2\" class=\"sk-top-container\"><div class=\"sk-text-repr-fallback\"><pre>Pipeline(steps=[(&#x27;mapper&#x27;,\n",
       "                 DataFrameMapper(drop_cols=[],\n",
       "                                 features=[[&#x27;gender&#x27;, LabelEncoder()],\n",
       "                                           [&#x27;Dependents&#x27;, LabelEncoder()],\n",
       "                                           [&#x27;InternetService&#x27;, LabelEncoder()],\n",
       "                                           [&#x27;OnlineSecurity&#x27;, LabelEncoder()],\n",
       "                                           [&#x27;OnlineBackup&#x27;, LabelEncoder()],\n",
       "                                           [&#x27;DeviceProtection&#x27;, LabelEncoder()],\n",
       "                                           [&#x27;TechSupport&#x27;, LabelEncoder()],\n",
       "                                           [&#x27;Contract&#x27;, LabelEncoder()],\n",
       "                                           [&#x27;PaperlessBilling&#x27;, LabelEncoder()],\n",
       "                                           [&#x27;PaymentMethod&#x27;, LabelEncoder()]])),\n",
       "                (&#x27;standardize&#x27;, StandardScaler()),\n",
       "                (&#x27;model&#x27;, RandomForestClassifier(n_estimators=50))])</pre><b>In a Jupyter environment, please rerun this cell to show the HTML representation or trust the notebook. <br />On GitHub, the HTML representation is unable to render, please try loading this page with nbviewer.org.</b></div><div class=\"sk-container\" hidden><div class=\"sk-item sk-dashed-wrapped\"><div class=\"sk-label-container\"><div class=\"sk-label sk-toggleable\"><input class=\"sk-toggleable__control sk-hidden--visually\" id=\"sk-estimator-id-5\" type=\"checkbox\" ><label for=\"sk-estimator-id-5\" class=\"sk-toggleable__label sk-toggleable__label-arrow\">Pipeline</label><div class=\"sk-toggleable__content\"><pre>Pipeline(steps=[(&#x27;mapper&#x27;,\n",
       "                 DataFrameMapper(drop_cols=[],\n",
       "                                 features=[[&#x27;gender&#x27;, LabelEncoder()],\n",
       "                                           [&#x27;Dependents&#x27;, LabelEncoder()],\n",
       "                                           [&#x27;InternetService&#x27;, LabelEncoder()],\n",
       "                                           [&#x27;OnlineSecurity&#x27;, LabelEncoder()],\n",
       "                                           [&#x27;OnlineBackup&#x27;, LabelEncoder()],\n",
       "                                           [&#x27;DeviceProtection&#x27;, LabelEncoder()],\n",
       "                                           [&#x27;TechSupport&#x27;, LabelEncoder()],\n",
       "                                           [&#x27;Contract&#x27;, LabelEncoder()],\n",
       "                                           [&#x27;PaperlessBilling&#x27;, LabelEncoder()],\n",
       "                                           [&#x27;PaymentMethod&#x27;, LabelEncoder()]])),\n",
       "                (&#x27;standardize&#x27;, StandardScaler()),\n",
       "                (&#x27;model&#x27;, RandomForestClassifier(n_estimators=50))])</pre></div></div></div><div class=\"sk-serial\"><div class=\"sk-item\"><div class=\"sk-estimator sk-toggleable\"><input class=\"sk-toggleable__control sk-hidden--visually\" id=\"sk-estimator-id-6\" type=\"checkbox\" ><label for=\"sk-estimator-id-6\" class=\"sk-toggleable__label sk-toggleable__label-arrow\">DataFrameMapper</label><div class=\"sk-toggleable__content\"><pre>DataFrameMapper(drop_cols=[],\n",
       "                features=[[&#x27;gender&#x27;, LabelEncoder()],\n",
       "                          [&#x27;Dependents&#x27;, LabelEncoder()],\n",
       "                          [&#x27;InternetService&#x27;, LabelEncoder()],\n",
       "                          [&#x27;OnlineSecurity&#x27;, LabelEncoder()],\n",
       "                          [&#x27;OnlineBackup&#x27;, LabelEncoder()],\n",
       "                          [&#x27;DeviceProtection&#x27;, LabelEncoder()],\n",
       "                          [&#x27;TechSupport&#x27;, LabelEncoder()],\n",
       "                          [&#x27;Contract&#x27;, LabelEncoder()],\n",
       "                          [&#x27;PaperlessBilling&#x27;, LabelEncoder()],\n",
       "                          [&#x27;PaymentMethod&#x27;, LabelEncoder()]])</pre></div></div></div><div class=\"sk-item\"><div class=\"sk-estimator sk-toggleable\"><input class=\"sk-toggleable__control sk-hidden--visually\" id=\"sk-estimator-id-7\" type=\"checkbox\" ><label for=\"sk-estimator-id-7\" class=\"sk-toggleable__label sk-toggleable__label-arrow\">StandardScaler</label><div class=\"sk-toggleable__content\"><pre>StandardScaler()</pre></div></div></div><div class=\"sk-item\"><div class=\"sk-estimator sk-toggleable\"><input class=\"sk-toggleable__control sk-hidden--visually\" id=\"sk-estimator-id-8\" type=\"checkbox\" ><label for=\"sk-estimator-id-8\" class=\"sk-toggleable__label sk-toggleable__label-arrow\">RandomForestClassifier</label><div class=\"sk-toggleable__content\"><pre>RandomForestClassifier(n_estimators=50)</pre></div></div></div></div></div></div></div>"
      ],
      "text/plain": [
       "Pipeline(steps=[('mapper',\n",
       "                 DataFrameMapper(drop_cols=[],\n",
       "                                 features=[['gender', LabelEncoder()],\n",
       "                                           ['Dependents', LabelEncoder()],\n",
       "                                           ['InternetService', LabelEncoder()],\n",
       "                                           ['OnlineSecurity', LabelEncoder()],\n",
       "                                           ['OnlineBackup', LabelEncoder()],\n",
       "                                           ['DeviceProtection', LabelEncoder()],\n",
       "                                           ['TechSupport', LabelEncoder()],\n",
       "                                           ['Contract', LabelEncoder()],\n",
       "                                           ['PaperlessBilling', LabelEncoder()],\n",
       "                                           ['PaymentMethod', LabelEncoder()]])),\n",
       "                ('standardize', StandardScaler()),\n",
       "                ('model', RandomForestClassifier(n_estimators=50))])"
      ]
     },
     "execution_count": 15,
     "metadata": {},
     "output_type": "execute_result"
    }
   ],
   "source": [
    "model.fit(X,y)"
   ]
  },
  {
   "cell_type": "markdown",
   "id": "97820941",
   "metadata": {},
   "source": [
    "# User testing"
   ]
  },
  {
   "cell_type": "code",
   "execution_count": 17,
   "id": "5be493f4",
   "metadata": {},
   "outputs": [
    {
     "data": {
      "text/plain": [
       "{'Unnamed: 0': 3,\n",
       " 'gender': 'Male',\n",
       " 'SeniorCitizen': 0,\n",
       " 'Dependents': 'No',\n",
       " 'tenure': 45,\n",
       " 'InternetService': 'DSL',\n",
       " 'OnlineSecurity': 'Yes',\n",
       " 'OnlineBackup': 'No',\n",
       " 'DeviceProtection': 'Yes',\n",
       " 'TechSupport': 'Yes',\n",
       " 'Contract': 'One year',\n",
       " 'PaperlessBilling': 'No',\n",
       " 'PaymentMethod': 'Bank transfer (automatic)',\n",
       " 'MonthlyCharges': 42.3,\n",
       " 'TotalCharges': 1840.75,\n",
       " 'Churn': 'No'}"
      ]
     },
     "execution_count": 17,
     "metadata": {},
     "output_type": "execute_result"
    }
   ],
   "source": [
    "dict(df.iloc[3,:])"
   ]
  },
  {
   "cell_type": "code",
   "execution_count": 18,
   "id": "6f56a0ed",
   "metadata": {},
   "outputs": [],
   "source": [
    "data = {'gender': 'Male',\n",
    " 'SeniorCitizen': 0,\n",
    " 'Dependents': 'No',\n",
    " 'tenure': 45,\n",
    " 'InternetService': 'DSL',\n",
    " 'OnlineSecurity': 'Yes',\n",
    " 'OnlineBackup': 'No',\n",
    " 'DeviceProtection': 'Yes',\n",
    " 'TechSupport': 'Yes',\n",
    " 'Contract': 'One year',\n",
    " 'PaperlessBilling': 'No',\n",
    " 'PaymentMethod': 'Bank transfer (automatic)',\n",
    " 'MonthlyCharges': 42.3,\n",
    " 'TotalCharges': 1840.75}"
   ]
  },
  {
   "cell_type": "code",
   "execution_count": 19,
   "id": "13dfbee8",
   "metadata": {},
   "outputs": [
    {
     "data": {
      "text/html": [
       "<div>\n",
       "<style scoped>\n",
       "    .dataframe tbody tr th:only-of-type {\n",
       "        vertical-align: middle;\n",
       "    }\n",
       "\n",
       "    .dataframe tbody tr th {\n",
       "        vertical-align: top;\n",
       "    }\n",
       "\n",
       "    .dataframe thead th {\n",
       "        text-align: right;\n",
       "    }\n",
       "</style>\n",
       "<table border=\"1\" class=\"dataframe\">\n",
       "  <thead>\n",
       "    <tr style=\"text-align: right;\">\n",
       "      <th></th>\n",
       "      <th>gender</th>\n",
       "      <th>SeniorCitizen</th>\n",
       "      <th>Dependents</th>\n",
       "      <th>tenure</th>\n",
       "      <th>InternetService</th>\n",
       "      <th>OnlineSecurity</th>\n",
       "      <th>OnlineBackup</th>\n",
       "      <th>DeviceProtection</th>\n",
       "      <th>TechSupport</th>\n",
       "      <th>Contract</th>\n",
       "      <th>PaperlessBilling</th>\n",
       "      <th>PaymentMethod</th>\n",
       "      <th>MonthlyCharges</th>\n",
       "      <th>TotalCharges</th>\n",
       "    </tr>\n",
       "  </thead>\n",
       "  <tbody>\n",
       "    <tr>\n",
       "      <th>0</th>\n",
       "      <td>Male</td>\n",
       "      <td>0</td>\n",
       "      <td>No</td>\n",
       "      <td>45</td>\n",
       "      <td>DSL</td>\n",
       "      <td>Yes</td>\n",
       "      <td>No</td>\n",
       "      <td>Yes</td>\n",
       "      <td>Yes</td>\n",
       "      <td>One year</td>\n",
       "      <td>No</td>\n",
       "      <td>Bank transfer (automatic)</td>\n",
       "      <td>42.3</td>\n",
       "      <td>1840.75</td>\n",
       "    </tr>\n",
       "  </tbody>\n",
       "</table>\n",
       "</div>"
      ],
      "text/plain": [
       "  gender  SeniorCitizen Dependents  tenure InternetService OnlineSecurity  \\\n",
       "0   Male              0         No      45             DSL            Yes   \n",
       "\n",
       "  OnlineBackup DeviceProtection TechSupport  Contract PaperlessBilling  \\\n",
       "0           No              Yes         Yes  One year               No   \n",
       "\n",
       "               PaymentMethod  MonthlyCharges  TotalCharges  \n",
       "0  Bank transfer (automatic)            42.3       1840.75  "
      ]
     },
     "execution_count": 19,
     "metadata": {},
     "output_type": "execute_result"
    }
   ],
   "source": [
    "new_user = pd.DataFrame(data,index=[0])\n",
    "new_user"
   ]
  },
  {
   "cell_type": "code",
   "execution_count": 20,
   "id": "e40a163d",
   "metadata": {},
   "outputs": [
    {
     "data": {
      "text/plain": [
       "array(['No'], dtype=object)"
      ]
     },
     "execution_count": 20,
     "metadata": {},
     "output_type": "execute_result"
    }
   ],
   "source": [
    "model.predict(new_user)"
   ]
  },
  {
   "cell_type": "code",
   "execution_count": 21,
   "id": "213ef425",
   "metadata": {},
   "outputs": [
    {
     "data": {
      "text/html": [
       "<style>#sk-container-id-3 {color: black;background-color: white;}#sk-container-id-3 pre{padding: 0;}#sk-container-id-3 div.sk-toggleable {background-color: white;}#sk-container-id-3 label.sk-toggleable__label {cursor: pointer;display: block;width: 100%;margin-bottom: 0;padding: 0.3em;box-sizing: border-box;text-align: center;}#sk-container-id-3 label.sk-toggleable__label-arrow:before {content: \"▸\";float: left;margin-right: 0.25em;color: #696969;}#sk-container-id-3 label.sk-toggleable__label-arrow:hover:before {color: black;}#sk-container-id-3 div.sk-estimator:hover label.sk-toggleable__label-arrow:before {color: black;}#sk-container-id-3 div.sk-toggleable__content {max-height: 0;max-width: 0;overflow: hidden;text-align: left;background-color: #f0f8ff;}#sk-container-id-3 div.sk-toggleable__content pre {margin: 0.2em;color: black;border-radius: 0.25em;background-color: #f0f8ff;}#sk-container-id-3 input.sk-toggleable__control:checked~div.sk-toggleable__content {max-height: 200px;max-width: 100%;overflow: auto;}#sk-container-id-3 input.sk-toggleable__control:checked~label.sk-toggleable__label-arrow:before {content: \"▾\";}#sk-container-id-3 div.sk-estimator input.sk-toggleable__control:checked~label.sk-toggleable__label {background-color: #d4ebff;}#sk-container-id-3 div.sk-label input.sk-toggleable__control:checked~label.sk-toggleable__label {background-color: #d4ebff;}#sk-container-id-3 input.sk-hidden--visually {border: 0;clip: rect(1px 1px 1px 1px);clip: rect(1px, 1px, 1px, 1px);height: 1px;margin: -1px;overflow: hidden;padding: 0;position: absolute;width: 1px;}#sk-container-id-3 div.sk-estimator {font-family: monospace;background-color: #f0f8ff;border: 1px dotted black;border-radius: 0.25em;box-sizing: border-box;margin-bottom: 0.5em;}#sk-container-id-3 div.sk-estimator:hover {background-color: #d4ebff;}#sk-container-id-3 div.sk-parallel-item::after {content: \"\";width: 100%;border-bottom: 1px solid gray;flex-grow: 1;}#sk-container-id-3 div.sk-label:hover label.sk-toggleable__label {background-color: #d4ebff;}#sk-container-id-3 div.sk-serial::before {content: \"\";position: absolute;border-left: 1px solid gray;box-sizing: border-box;top: 0;bottom: 0;left: 50%;z-index: 0;}#sk-container-id-3 div.sk-serial {display: flex;flex-direction: column;align-items: center;background-color: white;padding-right: 0.2em;padding-left: 0.2em;position: relative;}#sk-container-id-3 div.sk-item {position: relative;z-index: 1;}#sk-container-id-3 div.sk-parallel {display: flex;align-items: stretch;justify-content: center;background-color: white;position: relative;}#sk-container-id-3 div.sk-item::before, #sk-container-id-3 div.sk-parallel-item::before {content: \"\";position: absolute;border-left: 1px solid gray;box-sizing: border-box;top: 0;bottom: 0;left: 50%;z-index: -1;}#sk-container-id-3 div.sk-parallel-item {display: flex;flex-direction: column;z-index: 1;position: relative;background-color: white;}#sk-container-id-3 div.sk-parallel-item:first-child::after {align-self: flex-end;width: 50%;}#sk-container-id-3 div.sk-parallel-item:last-child::after {align-self: flex-start;width: 50%;}#sk-container-id-3 div.sk-parallel-item:only-child::after {width: 0;}#sk-container-id-3 div.sk-dashed-wrapped {border: 1px dashed gray;margin: 0 0.4em 0.5em 0.4em;box-sizing: border-box;padding-bottom: 0.4em;background-color: white;}#sk-container-id-3 div.sk-label label {font-family: monospace;font-weight: bold;display: inline-block;line-height: 1.2em;}#sk-container-id-3 div.sk-label-container {text-align: center;}#sk-container-id-3 div.sk-container {/* jupyter's `normalize.less` sets `[hidden] { display: none; }` but bootstrap.min.css set `[hidden] { display: none !important; }` so we also need the `!important` here to be able to override the default hidden behavior on the sphinx rendered scikit-learn.org. See: https://github.com/scikit-learn/scikit-learn/issues/21755 */display: inline-block !important;position: relative;}#sk-container-id-3 div.sk-text-repr-fallback {display: none;}</style><div id=\"sk-container-id-3\" class=\"sk-top-container\"><div class=\"sk-text-repr-fallback\"><pre>Pipeline(steps=[(&#x27;mapper&#x27;,\n",
       "                 DataFrameMapper(drop_cols=[],\n",
       "                                 features=[[&#x27;gender&#x27;, LabelEncoder()],\n",
       "                                           [&#x27;Dependents&#x27;, LabelEncoder()],\n",
       "                                           [&#x27;InternetService&#x27;, LabelEncoder()],\n",
       "                                           [&#x27;OnlineSecurity&#x27;, LabelEncoder()],\n",
       "                                           [&#x27;OnlineBackup&#x27;, LabelEncoder()],\n",
       "                                           [&#x27;DeviceProtection&#x27;, LabelEncoder()],\n",
       "                                           [&#x27;TechSupport&#x27;, LabelEncoder()],\n",
       "                                           [&#x27;Contract&#x27;, LabelEncoder()],\n",
       "                                           [&#x27;PaperlessBilling&#x27;, LabelEncoder()],\n",
       "                                           [&#x27;PaymentMethod&#x27;, LabelEncoder()]])),\n",
       "                (&#x27;standardize&#x27;, StandardScaler()),\n",
       "                (&#x27;model&#x27;, RandomForestClassifier(n_estimators=50))])</pre><b>In a Jupyter environment, please rerun this cell to show the HTML representation or trust the notebook. <br />On GitHub, the HTML representation is unable to render, please try loading this page with nbviewer.org.</b></div><div class=\"sk-container\" hidden><div class=\"sk-item sk-dashed-wrapped\"><div class=\"sk-label-container\"><div class=\"sk-label sk-toggleable\"><input class=\"sk-toggleable__control sk-hidden--visually\" id=\"sk-estimator-id-9\" type=\"checkbox\" ><label for=\"sk-estimator-id-9\" class=\"sk-toggleable__label sk-toggleable__label-arrow\">Pipeline</label><div class=\"sk-toggleable__content\"><pre>Pipeline(steps=[(&#x27;mapper&#x27;,\n",
       "                 DataFrameMapper(drop_cols=[],\n",
       "                                 features=[[&#x27;gender&#x27;, LabelEncoder()],\n",
       "                                           [&#x27;Dependents&#x27;, LabelEncoder()],\n",
       "                                           [&#x27;InternetService&#x27;, LabelEncoder()],\n",
       "                                           [&#x27;OnlineSecurity&#x27;, LabelEncoder()],\n",
       "                                           [&#x27;OnlineBackup&#x27;, LabelEncoder()],\n",
       "                                           [&#x27;DeviceProtection&#x27;, LabelEncoder()],\n",
       "                                           [&#x27;TechSupport&#x27;, LabelEncoder()],\n",
       "                                           [&#x27;Contract&#x27;, LabelEncoder()],\n",
       "                                           [&#x27;PaperlessBilling&#x27;, LabelEncoder()],\n",
       "                                           [&#x27;PaymentMethod&#x27;, LabelEncoder()]])),\n",
       "                (&#x27;standardize&#x27;, StandardScaler()),\n",
       "                (&#x27;model&#x27;, RandomForestClassifier(n_estimators=50))])</pre></div></div></div><div class=\"sk-serial\"><div class=\"sk-item\"><div class=\"sk-estimator sk-toggleable\"><input class=\"sk-toggleable__control sk-hidden--visually\" id=\"sk-estimator-id-10\" type=\"checkbox\" ><label for=\"sk-estimator-id-10\" class=\"sk-toggleable__label sk-toggleable__label-arrow\">DataFrameMapper</label><div class=\"sk-toggleable__content\"><pre>DataFrameMapper(drop_cols=[],\n",
       "                features=[[&#x27;gender&#x27;, LabelEncoder()],\n",
       "                          [&#x27;Dependents&#x27;, LabelEncoder()],\n",
       "                          [&#x27;InternetService&#x27;, LabelEncoder()],\n",
       "                          [&#x27;OnlineSecurity&#x27;, LabelEncoder()],\n",
       "                          [&#x27;OnlineBackup&#x27;, LabelEncoder()],\n",
       "                          [&#x27;DeviceProtection&#x27;, LabelEncoder()],\n",
       "                          [&#x27;TechSupport&#x27;, LabelEncoder()],\n",
       "                          [&#x27;Contract&#x27;, LabelEncoder()],\n",
       "                          [&#x27;PaperlessBilling&#x27;, LabelEncoder()],\n",
       "                          [&#x27;PaymentMethod&#x27;, LabelEncoder()]])</pre></div></div></div><div class=\"sk-item\"><div class=\"sk-estimator sk-toggleable\"><input class=\"sk-toggleable__control sk-hidden--visually\" id=\"sk-estimator-id-11\" type=\"checkbox\" ><label for=\"sk-estimator-id-11\" class=\"sk-toggleable__label sk-toggleable__label-arrow\">StandardScaler</label><div class=\"sk-toggleable__content\"><pre>StandardScaler()</pre></div></div></div><div class=\"sk-item\"><div class=\"sk-estimator sk-toggleable\"><input class=\"sk-toggleable__control sk-hidden--visually\" id=\"sk-estimator-id-12\" type=\"checkbox\" ><label for=\"sk-estimator-id-12\" class=\"sk-toggleable__label sk-toggleable__label-arrow\">RandomForestClassifier</label><div class=\"sk-toggleable__content\"><pre>RandomForestClassifier(n_estimators=50)</pre></div></div></div></div></div></div></div>"
      ],
      "text/plain": [
       "Pipeline(steps=[('mapper',\n",
       "                 DataFrameMapper(drop_cols=[],\n",
       "                                 features=[['gender', LabelEncoder()],\n",
       "                                           ['Dependents', LabelEncoder()],\n",
       "                                           ['InternetService', LabelEncoder()],\n",
       "                                           ['OnlineSecurity', LabelEncoder()],\n",
       "                                           ['OnlineBackup', LabelEncoder()],\n",
       "                                           ['DeviceProtection', LabelEncoder()],\n",
       "                                           ['TechSupport', LabelEncoder()],\n",
       "                                           ['Contract', LabelEncoder()],\n",
       "                                           ['PaperlessBilling', LabelEncoder()],\n",
       "                                           ['PaymentMethod', LabelEncoder()]])),\n",
       "                ('standardize', StandardScaler()),\n",
       "                ('model', RandomForestClassifier(n_estimators=50))])"
      ]
     },
     "execution_count": 21,
     "metadata": {},
     "output_type": "execute_result"
    }
   ],
   "source": [
    "model"
   ]
  },
  {
   "cell_type": "code",
   "execution_count": 22,
   "id": "233221cc",
   "metadata": {},
   "outputs": [],
   "source": [
    "import pickle"
   ]
  },
  {
   "cell_type": "code",
   "execution_count": 23,
   "id": "c1b5198c",
   "metadata": {},
   "outputs": [],
   "source": [
    "with open(file=\"model.pkl\",mode=\"wb\") as f:\n",
    "    pickle.dump(model,f)"
   ]
  },
  {
   "cell_type": "code",
   "execution_count": null,
   "id": "974f971e",
   "metadata": {},
   "outputs": [],
   "source": []
  }
 ],
 "metadata": {
  "kernelspec": {
   "display_name": "Python 3",
   "language": "python",
   "name": "python3"
  },
  "language_info": {
   "codemirror_mode": {
    "name": "ipython",
    "version": 3
   },
   "file_extension": ".py",
   "mimetype": "text/x-python",
   "name": "python",
   "nbconvert_exporter": "python",
   "pygments_lexer": "ipython3",
   "version": "3.8.8"
  }
 },
 "nbformat": 4,
 "nbformat_minor": 5
}
